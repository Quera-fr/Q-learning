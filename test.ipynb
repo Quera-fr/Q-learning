{
 "cells": [
  {
   "cell_type": "code",
   "execution_count": null,
   "id": "80b2922b",
   "metadata": {},
   "outputs": [],
   "source": [
    "def get_state():\n",
    "    x, y = st.session_state.agent_pos\n",
    "    return np.array([x / gw.GRID_WIDTH, y / gw.GRID_HEIGHT])  # Normalisé\n"
   ]
  },
  {
   "cell_type": "code",
   "execution_count": null,
   "id": "58cfaa3c",
   "metadata": {},
   "outputs": [],
   "source": [
    "\n",
    "def train_dqn(model, env, episodes=1000, max_steps=50, gamma=0.95, epsilon=1.0, epsilon_min=0.01, epsilon_decay=0.995, alpha=0.01):\n",
    "    memory = deque(maxlen=2000)  # Replay Buffer\n",
    "\n",
    "    for ep in range(episodes):\n",
    "        env.reset_position( placeholder)\n",
    "        state = get_state()\n",
    "        total_reward = 0\n",
    "\n",
    "        for step in range(max_steps):\n",
    "            # --- Choix de l'action (epsilon-greedy) ---\n",
    "            if np.random.rand() < epsilon:\n",
    "                action_idx = np.random.randint(4)\n",
    "            else:\n",
    "                q_values = model.predict(state.reshape(1, -1), verbose=0)\n",
    "                action_idx = np.argmax(q_values[0])\n",
    "\n",
    "            action = ACTIONS[action_idx]\n",
    "            \n",
    "            # --- Appliquer action ---\n",
    "            time.sleep(sleep_time)\n",
    "            agent.move_agent(action)\n",
    "            x_next, y_next = st.session_state.agent_pos\n",
    "            reward = st.session_state.R[x_next][y_next]\n",
    "\n",
    "            next_state = get_state()\n",
    "            done = (x_next, y_next) == env.goal_pos  # terminal state\n",
    "\n",
    "            # --- Stocker transition dans le buffer ---\n",
    "            memory.append((state, action_idx, reward, next_state, done))\n",
    "\n",
    "            state = next_state\n",
    "            total_reward += reward\n",
    "\n",
    "            if done:\n",
    "                break\n",
    "\n",
    "        # --- Entraînement par batch ---\n",
    "        batch_size = min(64, len(memory))\n",
    "        minibatch = random.sample(memory, batch_size)\n",
    "\n",
    "        for s, a, r, s_next, d in minibatch:\n",
    "            target = r\n",
    "            if not d:\n",
    "                target += gamma * np.max(model.predict(s_next.reshape(1, -1), verbose=0))\n",
    "                print(\"target\", target)\n",
    "\n",
    "            target_f = model.predict(s.reshape(1, -1), verbose=0)\n",
    "            target_f[0][a] = target  # appliquer l'équation de Bellman\n",
    "\n",
    "            model.fit(s.reshape(1, -1), target_f, epochs=1, verbose=0)\n",
    "\n",
    "        # --- Décroissance epsilon ---\n",
    "        if epsilon > epsilon_min:\n",
    "            epsilon *= epsilon_decay\n",
    "\n",
    "        st.sidebar.write(f\"Épisode {ep+1}, Récompense totale : {total_reward:.2f}, ε = {epsilon:.3f}\")"
   ]
  }
 ],
 "metadata": {
  "kernelspec": {
   "display_name": "Python 3",
   "language": "python",
   "name": "python3"
  },
  "language_info": {
   "codemirror_mode": {
    "name": "ipython",
    "version": 3
   },
   "file_extension": ".py",
   "mimetype": "text/x-python",
   "name": "python",
   "nbconvert_exporter": "python",
   "pygments_lexer": "ipython3",
   "version": "3.11.8"
  }
 },
 "nbformat": 4,
 "nbformat_minor": 5
}
