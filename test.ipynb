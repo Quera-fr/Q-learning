{
 "cells": [
  {
   "cell_type": "code",
   "execution_count": null,
   "id": "80b2922b",
   "metadata": {},
   "outputs": [],
   "source": [
    "def get_state():\n",
    "    x, y = st.session_state.agent_pos\n",
    "    return np.array([x / gw.GRID_WIDTH, y / gw.GRID_HEIGHT])  # Normalisé\n"
   ]
  },
  {
   "cell_type": "code",
   "execution_count": 1,
   "id": "ce3ffe6e",
   "metadata": {},
   "outputs": [],
   "source": [
    "from collections import deque\n",
    "memory = deque(maxlen=2000) "
   ]
  },
  {
   "cell_type": "code",
   "execution_count": 4,
   "id": "0b0f97c4",
   "metadata": {},
   "outputs": [],
   "source": [
    "memory.append(( 0, 0, 0)) # (state, action, reward, next_state)"
   ]
  },
  {
   "cell_type": "code",
   "execution_count": 8,
   "id": "8e351d50",
   "metadata": {},
   "outputs": [],
   "source": [
    "import numpy as np\n",
    "z = np.random.randint(0, 25, size=(10, 20))"
   ]
  },
  {
   "cell_type": "code",
   "execution_count": 11,
   "id": "ca0eef49",
   "metadata": {},
   "outputs": [
    {
     "data": {
      "text/plain": [
       "[array([11, 20,  3,  6,  8, 22,  4,  5,  2,  0,  6, 19,  0, 12,  1, 17, 23,\n",
       "        15, 19, 18]),\n",
       " array([23, 16, 18,  1, 22, 18, 19, 15, 23, 16,  0, 10,  2, 11, 18, 23, 10,\n",
       "         8, 15, 12]),\n",
       " array([21,  8,  0,  3,  4, 11,  8,  5, 10,  3, 19, 11, 11, 12,  3, 20, 14,\n",
       "        21,  8,  8]),\n",
       " array([19,  4,  0, 10, 12, 11, 21, 19,  7, 10, 19, 12, 18, 14, 20,  5,  7,\n",
       "        20, 16, 20]),\n",
       " array([ 2, 15, 22, 24,  2, 21,  4,  4, 17,  3, 21, 16, 13,  0, 11,  0,  0,\n",
       "        13, 16, 14]),\n",
       " array([22, 17, 24, 11,  7,  3, 18,  9,  7,  1,  4,  8, 23,  4, 19,  0,  4,\n",
       "        22,  9, 14]),\n",
       " array([22,  8,  5, 20, 20, 17, 15,  6, 21, 20, 20, 18,  6,  5, 12,  7, 21,\n",
       "         2, 10, 20]),\n",
       " array([24, 15,  7, 15,  9,  4,  4, 16, 14, 15,  6, 23,  1, 21,  8,  6, 24,\n",
       "        18,  1, 10]),\n",
       " array([ 1, 17,  3,  4, 21,  3, 12, 22, 14,  7,  8, 15,  1, 14, 16,  5, 15,\n",
       "        24,  7, 11]),\n",
       " array([ 4, 13, 13,  2, 22, 18,  1, 14,  7, 12,  5, 24, 12,  3,  8, 17,  5,\n",
       "        13,  0, 11])]"
      ]
     },
     "execution_count": 11,
     "metadata": {},
     "output_type": "execute_result"
    }
   ],
   "source": [
    "list(\n",
    "    z\n",
    ")"
   ]
  },
  {
   "cell_type": "code",
   "execution_count": 14,
   "id": "a10de06b",
   "metadata": {},
   "outputs": [
    {
     "data": {
      "text/plain": [
       "[array([22, 17, 24, 11,  7,  3, 18,  9,  7,  1,  4,  8, 23,  4, 19,  0,  4,\n",
       "        22,  9, 14]),\n",
       " array([24, 15,  7, 15,  9,  4,  4, 16, 14, 15,  6, 23,  1, 21,  8,  6, 24,\n",
       "        18,  1, 10]),\n",
       " array([ 1, 17,  3,  4, 21,  3, 12, 22, 14,  7,  8, 15,  1, 14, 16,  5, 15,\n",
       "        24,  7, 11]),\n",
       " array([ 2, 15, 22, 24,  2, 21,  4,  4, 17,  3, 21, 16, 13,  0, 11,  0,  0,\n",
       "        13, 16, 14]),\n",
       " array([ 4, 13, 13,  2, 22, 18,  1, 14,  7, 12,  5, 24, 12,  3,  8, 17,  5,\n",
       "        13,  0, 11]),\n",
       " array([11, 20,  3,  6,  8, 22,  4,  5,  2,  0,  6, 19,  0, 12,  1, 17, 23,\n",
       "        15, 19, 18]),\n",
       " array([19,  4,  0, 10, 12, 11, 21, 19,  7, 10, 19, 12, 18, 14, 20,  5,  7,\n",
       "        20, 16, 20]),\n",
       " array([21,  8,  0,  3,  4, 11,  8,  5, 10,  3, 19, 11, 11, 12,  3, 20, 14,\n",
       "        21,  8,  8])]"
      ]
     },
     "execution_count": 14,
     "metadata": {},
     "output_type": "execute_result"
    }
   ],
   "source": [
    "\n",
    "import random\n",
    "\n",
    "random.sample(list(z), min(8, 20))"
   ]
  },
  {
   "cell_type": "code",
   "execution_count": 5,
   "id": "db13e867",
   "metadata": {},
   "outputs": [
    {
     "data": {
      "text/plain": [
       "deque([(0, 0, 0)], maxlen=2000)"
      ]
     },
     "execution_count": 5,
     "metadata": {},
     "output_type": "execute_result"
    }
   ],
   "source": [
    "memory"
   ]
  },
  {
   "cell_type": "code",
   "execution_count": null,
   "id": "58cfaa3c",
   "metadata": {},
   "outputs": [],
   "source": [
    "\n",
    "def train_dqn(model, env, episodes=1000, max_steps=50, gamma=0.95, epsilon=1.0, epsilon_min=0.01, epsilon_decay=0.995, alpha=0.01):\n",
    "    memory = deque(maxlen=2000)  # Replay Buffer\n",
    "\n",
    "    for ep in range(episodes):\n",
    "        env.reset_position( placeholder)\n",
    "        state = get_state()\n",
    "        total_reward = 0\n",
    "\n",
    "        for step in range(max_steps):\n",
    "            # --- Choix de l'action (epsilon-greedy) ---\n",
    "            if np.random.rand() < epsilon:\n",
    "                action_idx = np.random.randint(4)\n",
    "            else:\n",
    "                q_values = model.predict(state.reshape(1, -1), verbose=0)\n",
    "                action_idx = np.argmax(q_values[0])\n",
    "\n",
    "            action = ACTIONS[action_idx]\n",
    "            \n",
    "            # --- Appliquer action ---\n",
    "            time.sleep(sleep_time)\n",
    "            agent.move_agent(action)\n",
    "            x_next, y_next = st.session_state.agent_pos\n",
    "            reward = st.session_state.R[x_next][y_next]\n",
    "\n",
    "            next_state = get_state()\n",
    "            done = (x_next, y_next) == env.goal_pos  # terminal state\n",
    "\n",
    "            # --- Stocker transition dans le buffer ---\n",
    "            memory.append((state, action_idx, reward, next_state, done))\n",
    "\n",
    "            state = next_state\n",
    "            total_reward += reward\n",
    "\n",
    "            if done:\n",
    "                break\n",
    "\n",
    "        # --- Entraînement par batch ---\n",
    "        batch_size = min(64, len(memory))\n",
    "        minibatch = random.sample(memory, batch_size)\n",
    "\n",
    "        for s, a, r, s_next, d in minibatch:\n",
    "            target = r\n",
    "            if not d:\n",
    "                target += gamma * np.max(model.predict(s_next.reshape(1, -1), verbose=0))\n",
    "                print(\"target\", target)\n",
    "\n",
    "            target_f = model.predict(s.reshape(1, -1), verbose=0)\n",
    "            target_f[0][a] = target  # appliquer l'équation de Bellman\n",
    "\n",
    "            model.fit(s.reshape(1, -1), target_f, epochs=1, verbose=0)\n",
    "\n",
    "        # --- Décroissance epsilon ---\n",
    "        if epsilon > epsilon_min:\n",
    "            epsilon *= epsilon_decay\n",
    "\n",
    "        st.sidebar.write(f\"Épisode {ep+1}, Récompense totale : {total_reward:.2f}, ε = {epsilon:.3f}\")"
   ]
  },
  {
   "cell_type": "code",
   "execution_count": 16,
   "id": "08e63dfd",
   "metadata": {},
   "outputs": [
    {
     "data": {
      "text/plain": [
       "23"
      ]
     },
     "execution_count": 16,
     "metadata": {},
     "output_type": "execute_result"
    }
   ],
   "source": [
    "np.amax(z[0], axis=0)"
   ]
  },
  {
   "cell_type": "code",
   "execution_count": null,
   "id": "f19590e0",
   "metadata": {},
   "outputs": [],
   "source": [
    "\n",
    "\n",
    "def train_dqn(model, gw, agent, placeholder, epsilon, gama,alpha=0.01, episodes=10, epsilon_min=0.01, epsilon_decay=0.995):\n",
    "    memory = deque(maxlen=2000)  # Replay Buffer\n",
    "    ACTIONS = {\n",
    "                0:'up', \n",
    "                1:'down', \n",
    "                2:'left', \n",
    "                3:'right'\n",
    "            }\n",
    "    max_steps=50\n",
    "\n",
    "    for ep in range(episodes):\n",
    "        gw.reset_position( placeholder)\n",
    "        sleep_time=0.1\n",
    "        \n",
    "        \n",
    "        total_reward = 0\n",
    "\n",
    "        for step in range(max_steps):\n",
    "            x, y = st.session_state.agent_pos\n",
    "            state = get_normalise_state(x, y, gw)\n",
    "            # --- Choix de l'action (epsilon-greedy) ---\n",
    "            if np.random.rand() < epsilon:\n",
    "                action_idx = np.random.randint(4)\n",
    "            else:\n",
    "                q_values = model.predict(state.reshape(1, -1), verbose=0)\n",
    "                action_idx = np.argmax(q_values[0])\n",
    "\n",
    "            action = ACTIONS[action_idx]\n",
    "            \n",
    "            # --- Appliquer action ---\n",
    "            time.sleep(sleep_time)\n",
    "            agent.move_agent(action)\n",
    "            x_next, y_next = st.session_state.agent_pos\n",
    "            reward = st.session_state.R[x_next][y_next]\n",
    "\n",
    "            next_state = get_normalise_state(x_next, y_next, gw)\n",
    "            done = (x_next, y_next) == gw.goal_pos  # terminal state\n",
    "\n",
    "            # --- Stocker transition dans le buffer ---\n",
    "            memory.append(((x, y), action_idx, reward, (x_next, y_next), done))\n",
    "\n",
    "            state = next_state\n",
    "            total_reward += reward\n",
    "\n",
    "            if done:\n",
    "                break\n",
    "\n",
    "        # --- Entraînement par batch ---\n",
    "        batch_size = min(64, len(memory))\n",
    "        minibatch = random.sample(memory, batch_size)\n",
    "\n",
    "        for s, a, r, s_next, d in minibatch:\n",
    "            x, y = s\n",
    "            s = get_normalise_state(s[0], s[1], gw)\n",
    "            s_next = get_normalise_state(s_next[0], s_next[1], gw)\n",
    "            \n",
    "            target = r\n",
    "            if not d:\n",
    "                target += gama * np.max(model.predict(s_next, verbose=0))\n",
    "\n",
    "            target_f = model.predict(s, verbose=0)\n",
    "            target_f[0][a] = target  # appliquer l'équation de Bellman\n",
    "            st.session_state.Q[x][y] = target_f[0]\n",
    "\n",
    "            model.fit(s, target_f, epochs=1, verbose=0)\n",
    "\n",
    "        # --- Décroissance epsilon ---\n",
    "        if epsilon > epsilon_min:\n",
    "            epsilon *= epsilon_decay\n",
    "\n",
    "        st.sidebar.write(f\"Épisode {ep+1}, Récompense totale : {total_reward:.2f}, ε = {epsilon:.3f}\")\n",
    "        \n",
    "    return model"
   ]
  }
 ],
 "metadata": {
  "kernelspec": {
   "display_name": "Python 3",
   "language": "python",
   "name": "python3"
  },
  "language_info": {
   "codemirror_mode": {
    "name": "ipython",
    "version": 3
   },
   "file_extension": ".py",
   "mimetype": "text/x-python",
   "name": "python",
   "nbconvert_exporter": "python",
   "pygments_lexer": "ipython3",
   "version": "3.11.9"
  }
 },
 "nbformat": 4,
 "nbformat_minor": 5
}
