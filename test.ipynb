{
 "cells": [
  {
   "cell_type": "code",
   "execution_count": 2,
   "id": "77371ea2",
   "metadata": {},
   "outputs": [],
   "source": [
    "import random\n",
    "\n",
    "\n",
    "dict_actions = {\n",
    "    0:'up', \n",
    "    1:'down', \n",
    "    2:'left', \n",
    "    3:'right'\n",
    "}\n",
    "\n",
    "def epsilon_greedy_choice(Q_s, epsilon):\n",
    "    \"\"\"\n",
    "    Q_s est la liste des Q-values pour l'état courant, \n",
    "    une par action. (Ex: [Q(s,UP), Q(s,DOWN), Q(s,LEFT), Q(s,RIGHT)])\n",
    "    epsilon est le paramètre d'exploration.\n",
    "    \"\"\"\n",
    "    # On tire un nombre aléatoire dans [0..1]\n",
    "    u = random.random()\n",
    "\n",
    "    # Si on explore...\n",
    "    if u < epsilon:\n",
    "        # Choix aléatoire parmi toutes les actions\n",
    "        action = random.randint(0, len(Q_s) - 1)\n",
    "    else:\n",
    "        # Exploitation : choisir la meilleure action (ArgMax)\n",
    "        max_q = max(Q_s)\n",
    "        # S'il y a égalité, on peut choisir aléatoirement parmi les meilleurs\n",
    "        best_actions = [i for i, q in enumerate(Q_s) if q == max_q]\n",
    "        # On prend l'un des \"meilleurs\" au hasard (gestion d'éventuels ex æquo)\n",
    "        action = random.choice(best_actions)\n",
    "\n",
    "    return action\n",
    "\n",
    "\n",
    "# Q(s,a) ← Q(s,a) + α[r + γmaxQ(s′,a′) − Q(s,a)] (à compléter)"
   ]
  },
  {
   "cell_type": "code",
   "execution_count": 12,
   "id": "1edc79cb",
   "metadata": {},
   "outputs": [
    {
     "data": {
      "text/plain": [
       "2"
      ]
     },
     "execution_count": 12,
     "metadata": {},
     "output_type": "execute_result"
    }
   ],
   "source": [
    "epsilon_greedy_choice([0.7, 0.8, 5, 1], 0.6)"
   ]
  },
  {
   "cell_type": "code",
   "execution_count": 1,
   "id": "fce1b94c",
   "metadata": {},
   "outputs": [
    {
     "data": {
      "text/plain": [
       "5"
      ]
     },
     "execution_count": 1,
     "metadata": {},
     "output_type": "execute_result"
    }
   ],
   "source": [
    "max([0.7, 0.8, 5, 1])"
   ]
  },
  {
   "cell_type": "code",
   "execution_count": null,
   "id": "80b2922b",
   "metadata": {},
   "outputs": [],
   "source": []
  }
 ],
 "metadata": {
  "kernelspec": {
   "display_name": "Python 3",
   "language": "python",
   "name": "python3"
  },
  "language_info": {
   "codemirror_mode": {
    "name": "ipython",
    "version": 3
   },
   "file_extension": ".py",
   "mimetype": "text/x-python",
   "name": "python",
   "nbconvert_exporter": "python",
   "pygments_lexer": "ipython3",
   "version": "3.11.8"
  }
 },
 "nbformat": 4,
 "nbformat_minor": 5
}
